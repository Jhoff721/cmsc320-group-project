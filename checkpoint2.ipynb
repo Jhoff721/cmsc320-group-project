{
  "cells": [
    {
      "cell_type": "markdown",
      "metadata": {
        "id": "9Qh4AKzuXaEa"
      },
      "source": [
        "# Goodreads Books with Genre\n",
        "## Data Processing"
      ]
    },
    {
      "cell_type": "code",
      "execution_count": 2,
      "metadata": {
        "id": "n4MFdMryXaEb"
      },
      "outputs": [],
      "source": [
        "import kagglehub\n",
        "import pandas as pd\n",
        "import statistics"
      ]
    },
    {
      "cell_type": "markdown",
      "metadata": {
        "id": "jVnd_BRKXaEb"
      },
      "source": [
        "Start with data processing! Import the data, parse through data to make sure they are all the correct types, and create a DataFrame"
      ]
    },
    {
      "cell_type": "code",
      "execution_count": 4,
      "metadata": {
        "id": "meVNeqkhXaEb",
        "outputId": "4a75c40c-ee4c-42da-88ce-ab368db07592",
        "colab": {
          "base_uri": "https://localhost:8080/",
          "height": 365
        }
      },
      "outputs": [
        {
          "output_type": "error",
          "ename": "FileNotFoundError",
          "evalue": "[Errno 2] No such file or directory: './goodreadsbookswithgenres/Goodreads_books_with_genres.csv'",
          "traceback": [
            "\u001b[0;31m---------------------------------------------------------------------------\u001b[0m",
            "\u001b[0;31mFileNotFoundError\u001b[0m                         Traceback (most recent call last)",
            "\u001b[0;32m<ipython-input-4-dbe7caec802f>\u001b[0m in \u001b[0;36m<cell line: 0>\u001b[0;34m()\u001b[0m\n\u001b[1;32m      2\u001b[0m \u001b[0mfile\u001b[0m \u001b[0;34m=\u001b[0m \u001b[0mkagglehub\u001b[0m\u001b[0;34m.\u001b[0m\u001b[0mdataset_download\u001b[0m\u001b[0;34m(\u001b[0m\u001b[0;34m\"middlelight/goodreadsbookswithgenres\"\u001b[0m\u001b[0;34m)\u001b[0m\u001b[0;34m\u001b[0m\u001b[0;34m\u001b[0m\u001b[0m\n\u001b[1;32m      3\u001b[0m \u001b[0;34m\u001b[0m\u001b[0m\n\u001b[0;32m----> 4\u001b[0;31m \u001b[0mdf\u001b[0m \u001b[0;34m=\u001b[0m \u001b[0mpd\u001b[0m\u001b[0;34m.\u001b[0m\u001b[0mread_csv\u001b[0m\u001b[0;34m(\u001b[0m\u001b[0;34m'./goodreadsbookswithgenres/Goodreads_books_with_genres.csv'\u001b[0m\u001b[0;34m)\u001b[0m\u001b[0;34m\u001b[0m\u001b[0;34m\u001b[0m\u001b[0m\n\u001b[0m\u001b[1;32m      5\u001b[0m \u001b[0mdf\u001b[0m\u001b[0;34m.\u001b[0m\u001b[0mhead\u001b[0m\u001b[0;34m(\u001b[0m\u001b[0;34m)\u001b[0m\u001b[0;34m\u001b[0m\u001b[0;34m\u001b[0m\u001b[0m\n",
            "\u001b[0;32m/usr/local/lib/python3.11/dist-packages/pandas/io/parsers/readers.py\u001b[0m in \u001b[0;36mread_csv\u001b[0;34m(filepath_or_buffer, sep, delimiter, header, names, index_col, usecols, dtype, engine, converters, true_values, false_values, skipinitialspace, skiprows, skipfooter, nrows, na_values, keep_default_na, na_filter, verbose, skip_blank_lines, parse_dates, infer_datetime_format, keep_date_col, date_parser, date_format, dayfirst, cache_dates, iterator, chunksize, compression, thousands, decimal, lineterminator, quotechar, quoting, doublequote, escapechar, comment, encoding, encoding_errors, dialect, on_bad_lines, delim_whitespace, low_memory, memory_map, float_precision, storage_options, dtype_backend)\u001b[0m\n\u001b[1;32m   1024\u001b[0m     \u001b[0mkwds\u001b[0m\u001b[0;34m.\u001b[0m\u001b[0mupdate\u001b[0m\u001b[0;34m(\u001b[0m\u001b[0mkwds_defaults\u001b[0m\u001b[0;34m)\u001b[0m\u001b[0;34m\u001b[0m\u001b[0;34m\u001b[0m\u001b[0m\n\u001b[1;32m   1025\u001b[0m \u001b[0;34m\u001b[0m\u001b[0m\n\u001b[0;32m-> 1026\u001b[0;31m     \u001b[0;32mreturn\u001b[0m \u001b[0m_read\u001b[0m\u001b[0;34m(\u001b[0m\u001b[0mfilepath_or_buffer\u001b[0m\u001b[0;34m,\u001b[0m \u001b[0mkwds\u001b[0m\u001b[0;34m)\u001b[0m\u001b[0;34m\u001b[0m\u001b[0;34m\u001b[0m\u001b[0m\n\u001b[0m\u001b[1;32m   1027\u001b[0m \u001b[0;34m\u001b[0m\u001b[0m\n\u001b[1;32m   1028\u001b[0m \u001b[0;34m\u001b[0m\u001b[0m\n",
            "\u001b[0;32m/usr/local/lib/python3.11/dist-packages/pandas/io/parsers/readers.py\u001b[0m in \u001b[0;36m_read\u001b[0;34m(filepath_or_buffer, kwds)\u001b[0m\n\u001b[1;32m    618\u001b[0m \u001b[0;34m\u001b[0m\u001b[0m\n\u001b[1;32m    619\u001b[0m     \u001b[0;31m# Create the parser.\u001b[0m\u001b[0;34m\u001b[0m\u001b[0;34m\u001b[0m\u001b[0m\n\u001b[0;32m--> 620\u001b[0;31m     \u001b[0mparser\u001b[0m \u001b[0;34m=\u001b[0m \u001b[0mTextFileReader\u001b[0m\u001b[0;34m(\u001b[0m\u001b[0mfilepath_or_buffer\u001b[0m\u001b[0;34m,\u001b[0m \u001b[0;34m**\u001b[0m\u001b[0mkwds\u001b[0m\u001b[0;34m)\u001b[0m\u001b[0;34m\u001b[0m\u001b[0;34m\u001b[0m\u001b[0m\n\u001b[0m\u001b[1;32m    621\u001b[0m \u001b[0;34m\u001b[0m\u001b[0m\n\u001b[1;32m    622\u001b[0m     \u001b[0;32mif\u001b[0m \u001b[0mchunksize\u001b[0m \u001b[0;32mor\u001b[0m \u001b[0miterator\u001b[0m\u001b[0;34m:\u001b[0m\u001b[0;34m\u001b[0m\u001b[0;34m\u001b[0m\u001b[0m\n",
            "\u001b[0;32m/usr/local/lib/python3.11/dist-packages/pandas/io/parsers/readers.py\u001b[0m in \u001b[0;36m__init__\u001b[0;34m(self, f, engine, **kwds)\u001b[0m\n\u001b[1;32m   1618\u001b[0m \u001b[0;34m\u001b[0m\u001b[0m\n\u001b[1;32m   1619\u001b[0m         \u001b[0mself\u001b[0m\u001b[0;34m.\u001b[0m\u001b[0mhandles\u001b[0m\u001b[0;34m:\u001b[0m \u001b[0mIOHandles\u001b[0m \u001b[0;34m|\u001b[0m \u001b[0;32mNone\u001b[0m \u001b[0;34m=\u001b[0m \u001b[0;32mNone\u001b[0m\u001b[0;34m\u001b[0m\u001b[0;34m\u001b[0m\u001b[0m\n\u001b[0;32m-> 1620\u001b[0;31m         \u001b[0mself\u001b[0m\u001b[0;34m.\u001b[0m\u001b[0m_engine\u001b[0m \u001b[0;34m=\u001b[0m \u001b[0mself\u001b[0m\u001b[0;34m.\u001b[0m\u001b[0m_make_engine\u001b[0m\u001b[0;34m(\u001b[0m\u001b[0mf\u001b[0m\u001b[0;34m,\u001b[0m \u001b[0mself\u001b[0m\u001b[0;34m.\u001b[0m\u001b[0mengine\u001b[0m\u001b[0;34m)\u001b[0m\u001b[0;34m\u001b[0m\u001b[0;34m\u001b[0m\u001b[0m\n\u001b[0m\u001b[1;32m   1621\u001b[0m \u001b[0;34m\u001b[0m\u001b[0m\n\u001b[1;32m   1622\u001b[0m     \u001b[0;32mdef\u001b[0m \u001b[0mclose\u001b[0m\u001b[0;34m(\u001b[0m\u001b[0mself\u001b[0m\u001b[0;34m)\u001b[0m \u001b[0;34m->\u001b[0m \u001b[0;32mNone\u001b[0m\u001b[0;34m:\u001b[0m\u001b[0;34m\u001b[0m\u001b[0;34m\u001b[0m\u001b[0m\n",
            "\u001b[0;32m/usr/local/lib/python3.11/dist-packages/pandas/io/parsers/readers.py\u001b[0m in \u001b[0;36m_make_engine\u001b[0;34m(self, f, engine)\u001b[0m\n\u001b[1;32m   1878\u001b[0m                 \u001b[0;32mif\u001b[0m \u001b[0;34m\"b\"\u001b[0m \u001b[0;32mnot\u001b[0m \u001b[0;32min\u001b[0m \u001b[0mmode\u001b[0m\u001b[0;34m:\u001b[0m\u001b[0;34m\u001b[0m\u001b[0;34m\u001b[0m\u001b[0m\n\u001b[1;32m   1879\u001b[0m                     \u001b[0mmode\u001b[0m \u001b[0;34m+=\u001b[0m \u001b[0;34m\"b\"\u001b[0m\u001b[0;34m\u001b[0m\u001b[0;34m\u001b[0m\u001b[0m\n\u001b[0;32m-> 1880\u001b[0;31m             self.handles = get_handle(\n\u001b[0m\u001b[1;32m   1881\u001b[0m                 \u001b[0mf\u001b[0m\u001b[0;34m,\u001b[0m\u001b[0;34m\u001b[0m\u001b[0;34m\u001b[0m\u001b[0m\n\u001b[1;32m   1882\u001b[0m                 \u001b[0mmode\u001b[0m\u001b[0;34m,\u001b[0m\u001b[0;34m\u001b[0m\u001b[0;34m\u001b[0m\u001b[0m\n",
            "\u001b[0;32m/usr/local/lib/python3.11/dist-packages/pandas/io/common.py\u001b[0m in \u001b[0;36mget_handle\u001b[0;34m(path_or_buf, mode, encoding, compression, memory_map, is_text, errors, storage_options)\u001b[0m\n\u001b[1;32m    871\u001b[0m         \u001b[0;32mif\u001b[0m \u001b[0mioargs\u001b[0m\u001b[0;34m.\u001b[0m\u001b[0mencoding\u001b[0m \u001b[0;32mand\u001b[0m \u001b[0;34m\"b\"\u001b[0m \u001b[0;32mnot\u001b[0m \u001b[0;32min\u001b[0m \u001b[0mioargs\u001b[0m\u001b[0;34m.\u001b[0m\u001b[0mmode\u001b[0m\u001b[0;34m:\u001b[0m\u001b[0;34m\u001b[0m\u001b[0;34m\u001b[0m\u001b[0m\n\u001b[1;32m    872\u001b[0m             \u001b[0;31m# Encoding\u001b[0m\u001b[0;34m\u001b[0m\u001b[0;34m\u001b[0m\u001b[0m\n\u001b[0;32m--> 873\u001b[0;31m             handle = open(\n\u001b[0m\u001b[1;32m    874\u001b[0m                 \u001b[0mhandle\u001b[0m\u001b[0;34m,\u001b[0m\u001b[0;34m\u001b[0m\u001b[0;34m\u001b[0m\u001b[0m\n\u001b[1;32m    875\u001b[0m                 \u001b[0mioargs\u001b[0m\u001b[0;34m.\u001b[0m\u001b[0mmode\u001b[0m\u001b[0;34m,\u001b[0m\u001b[0;34m\u001b[0m\u001b[0;34m\u001b[0m\u001b[0m\n",
            "\u001b[0;31mFileNotFoundError\u001b[0m: [Errno 2] No such file or directory: './goodreadsbookswithgenres/Goodreads_books_with_genres.csv'"
          ]
        }
      ],
      "source": [
        "# Download latest version\n",
        "file = kagglehub.dataset_download(\"middlelight/goodreadsbookswithgenres\")\n",
        "\n",
        "df = pd.read_csv('./goodreadsbookswithgenres/Goodreads_books_with_genres.csv')\n",
        "df.head()\n"
      ]
    },
    {
      "cell_type": "code",
      "execution_count": null,
      "metadata": {
        "id": "w5BEQ8oTXaEb"
      },
      "outputs": [],
      "source": [
        "print(\"(cols, rows):\", df.shape)\n",
        "df.dtypes"
      ]
    },
    {
      "cell_type": "code",
      "execution_count": null,
      "metadata": {
        "id": "LoqyKeoxXaEb"
      },
      "outputs": [],
      "source": [
        "df.count()"
      ]
    },
    {
      "cell_type": "markdown",
      "metadata": {
        "id": "Olnq9QybXaEb"
      },
      "source": [
        "The `count()` function shows that the only column that has null values is genre. Since majority of our questions deal with genre, we are going to remove the books without a genre. Since the genres column is important, we are going to clean up the data by turning the string into an array."
      ]
    },
    {
      "cell_type": "code",
      "execution_count": null,
      "metadata": {
        "id": "mr5PTcmWXaEc"
      },
      "outputs": [],
      "source": [
        "# Drop all the rows without a genre\n",
        "df = df.dropna(how='any')\n",
        "\n",
        "# Turn the genres column from a string into an array\n",
        "df.loc[:, 'genres'] = df['genres'].apply(lambda input: input.split(';'))\n",
        "df.head()\n"
      ]
    },
    {
      "cell_type": "markdown",
      "metadata": {
        "id": "eaUafPH1XaEc"
      },
      "source": [
        "Next, since we will be using the publication date, we want to convert the string into a datetime object for easier computation."
      ]
    },
    {
      "cell_type": "code",
      "execution_count": null,
      "metadata": {
        "id": "Rc-ZlOeuXaEc"
      },
      "outputs": [],
      "source": [
        "# Convert to datetime\n",
        "df.loc[:, 'publication_date'] = df['publication_date'].apply(lambda date: pd.to_datetime(date,  errors='coerce'))\n",
        "\n",
        "# Look at rows that are NaT (not a time)\n",
        "nat_rows = df[df['publication_date'].isna()]\n",
        "nat_rows"
      ]
    },
    {
      "cell_type": "markdown",
      "metadata": {
        "id": "X_C9S3p1XaEc"
      },
      "source": [
        "Since there are only two rows without a date, we feel comfortable removing them, since they will not make a huge impact on our data."
      ]
    },
    {
      "cell_type": "code",
      "execution_count": null,
      "metadata": {
        "id": "pOj82GOWXaEc"
      },
      "outputs": [],
      "source": [
        "# Remove the rows with NaT\n",
        "df = df.dropna(subset=['publication_date'])\n",
        "df.head()"
      ]
    },
    {
      "cell_type": "markdown",
      "metadata": {
        "id": "2IBVWvZwXaEc"
      },
      "source": [
        "Now let's do some basic exploration of the data. Looking at the range of publication dates, genres, number of pages, publishers, average rating."
      ]
    },
    {
      "cell_type": "code",
      "execution_count": null,
      "metadata": {
        "id": "C90oysfNXaEc"
      },
      "outputs": [],
      "source": [
        "# Range of publication dates\n",
        "min_date = df['publication_date'].min()\n",
        "max_date = df['publication_date'].max()\n",
        "print(\"Publication date ranges from\", min_date, \"to\", max_date)\n",
        "\n",
        "# Range of number of pages\n",
        "min_pages = df['num_pages'].min()\n",
        "max_pages = df['num_pages'].max()\n",
        "print(\"Number of pages ranges from\", min_pages, \"to\", max_pages)\n",
        "\n",
        "# Range of average rating\n",
        "min_average_rating = df['average_rating'].min()\n",
        "max_average_rating = df['average_rating'].max()\n",
        "print(\"Average rating ranges from\", min_average_rating, \"to\", max_average_rating)\n",
        "\n",
        "# Range of number of ratings\n",
        "min_ratings = df['ratings_count'].min()\n",
        "max_ratings = df['ratings_count'].max()\n",
        "print(\"Number of ratings ranges from\", min_ratings, \"to\", max_ratings)\n",
        "\n",
        "# List of publishers\n",
        "unique_publishers = df['publisher'].unique()\n",
        "print(\"List of publishers:\", unique_publishers)\n",
        "\n",
        "# List of genres\n",
        "all_genres = df['genres'].explode()\n",
        "unique_genres = all_genres.unique()\n",
        "print(\"List of genres:\", unique_genres)\n",
        "\n",
        "def filter_genres(genres):\n",
        "    return [genre for genre in genres if ',' not in genre]\n",
        "\n",
        "main_genres = df['genres'].apply(filter_genres).explode()\n",
        "unique_main_genres = main_genres.unique()\n",
        "print(\"List of MAIN genres:\", unique_main_genres)\n",
        "print(\"Number of genres\", len(unique_genres))\n",
        "print(\"Number of MAIN genres\", len(unique_main_genres))\n"
      ]
    },
    {
      "cell_type": "markdown",
      "metadata": {
        "id": "Ne7hDKnHXaEc"
      },
      "source": [
        "- **<font color='red'>I think we should remove the subgenres like Fantasy,Epic. And just have the broader genre</font>**\n",
        "    - or shrink to a smaller category of genres\n",
        "- **<font color='red'>I think we should remove the rows that have 0 as the page number</font>**\n",
        "- **<font color='red'>Same with average rating and number of ratings?</font>**\n",
        "\n"
      ]
    },
    {
      "cell_type": "code",
      "execution_count": null,
      "metadata": {
        "id": "s52yy_6WXaEc"
      },
      "outputs": [],
      "source": [
        "# Genres with the most books\n",
        "top_genres = main_genres.value_counts().head(25)\n",
        "top_genres"
      ]
    },
    {
      "cell_type": "markdown",
      "metadata": {
        "id": "r-GPyNiCXaEc"
      },
      "source": [
        "**<font color='red'>What genres should we do?</font>**\n",
        "- classics\n",
        "- fantasy\n",
        "- history\n",
        "- mystery\n",
        "- romance\n",
        "- young adult\n",
        "- science fiction\n",
        "- childrens\n",
        "- humor\n",
        "- thriller\n",
        "- biography\n",
        "- short stories\n",
        "- horror\n"
      ]
    },
    {
      "cell_type": "markdown",
      "source": [
        "# Test 1: Does a higher number of ratings lead to a lower average rating?\n",
        "### We'll compare the number of ratings to the average rating for *each book*.\n",
        "\n",
        "\n",
        "*   HO: Total number of ratings for individual books does not have an effect on average rating.\n",
        "*   HA: Total number of ratings for individual books does have an effect on average rating.\n"
      ],
      "metadata": {
        "id": "QPpOmM2lXxEW"
      }
    },
    {
      "cell_type": "code",
      "source": [
        "# dataframe displaying info for just the top 25 genres\n",
        "top_genres_list = top_genres.index.tolist()\n",
        "\n",
        "df_top_genres = df[df['genres'].apply(lambda x: any(genre in top_genres_list for genre in x))]\n",
        "df_top_genres"
      ],
      "metadata": {
        "id": "K9WPAd6ZYIsD"
      },
      "execution_count": null,
      "outputs": []
    },
    {
      "cell_type": "code",
      "source": [
        "# scatter plot\n",
        "import matplotlib.pyplot as plt\n",
        "plt.figure(figsize=(10, 6))\n",
        "plt.scatter(df_top_genres['ratings_count'], df_top_genres['average_rating'])\n",
        "plt.xlabel(\"Number of Ratings\")\n",
        "plt.ylabel(\"Average Rating (0-5)\")\n",
        "plt.title(\"Average Rating vs. Number of Ratings for Top Genres\")\n",
        "plt.xscale('log')\n",
        "\n",
        "plt.grid(True)\n",
        "plt.show()"
      ],
      "metadata": {
        "id": "P5dGr8DvYMuX"
      },
      "execution_count": null,
      "outputs": []
    },
    {
      "cell_type": "code",
      "source": [
        "# apply Pearson's correlation test on the dataframe with top genres\n",
        "from scipy import stats\n",
        "result = stats.pearsonr(df_top_genres['ratings_count'], df_top_genres['average_rating'])\n",
        "result.pvalue"
      ],
      "metadata": {
        "id": "plgl84jIYPB2"
      },
      "execution_count": null,
      "outputs": []
    },
    {
      "cell_type": "markdown",
      "source": [
        "The p-value of approximately 1.192 x 10^-5 is much smaller than the significance level of 0.05. Therefore, we can reject the null hypothesis, which had stated that the total number of ratings didn't have a significant effect on the average ratings for books."
      ],
      "metadata": {
        "id": "20ARoy3zYRI7"
      }
    },
    {
      "cell_type": "code",
      "source": [
        "# note: there are no average ratings 'x' where 0.00 < x < 2.00\n",
        "df.sort_values('average_rating').head(30)"
      ],
      "metadata": {
        "id": "T_c--SZiYSZZ"
      },
      "execution_count": null,
      "outputs": []
    },
    {
      "cell_type": "code",
      "source": [
        "# note: there are also fewer than 70 books with an average rating less than 3.00\n",
        "df.sort_values('average_rating').head(70)"
      ],
      "metadata": {
        "id": "-qzDaX4wYVpc"
      },
      "execution_count": null,
      "outputs": []
    }
  ],
  "metadata": {
    "kernelspec": {
      "display_name": "Python 3",
      "language": "python",
      "name": "python3"
    },
    "language_info": {
      "codemirror_mode": {
        "name": "ipython",
        "version": 3
      },
      "file_extension": ".py",
      "mimetype": "text/x-python",
      "name": "python",
      "nbconvert_exporter": "python",
      "pygments_lexer": "ipython3",
      "version": "3.10.12"
    },
    "colab": {
      "provenance": []
    }
  },
  "nbformat": 4,
  "nbformat_minor": 0
}