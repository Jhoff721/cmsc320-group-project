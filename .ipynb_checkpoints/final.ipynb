{
 "cells": [
  {
   "cell_type": "markdown",
   "id": "c9335515",
   "metadata": {},
   "source": [
    "<center> \n",
    "    <h1>Title</h1> \n",
    "    <h3>Spring 2025 Data Science Project</h3>\n",
    "</center>\n",
    "\n",
    "Collaborators: Jordan Hoffmann, Elizabeth Yuan, Ananya Malipeddi and Kevin Mitchell\n",
    "\n",
    "<h4>Contributions</h4>\n",
    "\n",
    " - Jordan Hoffmann: \n",
    "\n",
    " - Elizabeth Yuan: \n",
    "\n",
    " - Ananya Malipeddi: \n",
    "\n",
    " - Kevin Mitchell: \n",
    "\n",
    "***"
   ]
  },
  {
   "cell_type": "markdown",
   "id": "f9f19964",
   "metadata": {},
   "source": [
    "<center><h2>Introduction</h2></center>\n",
    "\n",
    "[Goodreads](https://www.goodreads.com/) is a popular application used by book lovers. It allows a user to personalize a library with books they want to read, are currently reading, and have read in the past. It also allows users to explore books by genre, author, trope, and much more. We wanted to dive deeper into the vast collection of books Goodreads stores and what data within each book it holds. We used Goodreads as a stepping stone for what types of correlations and predictions we could make from all this data.\n",
    "\n",
    "Does the genre of the book play a role in the number of ratings? Does the number of ratings decrease the average rating of a book? Do authors tend to stick to one genre? We considered these questions and many more while we explored the data. Asking these questions and analyzing real data enables companies to make evidence-based decisions. For publishers, these insights are vital to determing whether or not to publish a certain book. There are many factors that lead to a successful book and data science can help highlight and understand the important features. In order to address this real-life problem, we decided to use machine learning to predict the average rating of a book.\n",
    "\n",
    "This project is a step-by-step guide to understand the Data Science lifecycle. Each of the headers below represents one of the steps, which you can learn more about [here](https://www.analytixlabs.co.in/blog/data-science-life-cycle/)."
   ]
  },
  {
   "cell_type": "markdown",
   "id": "15370ba9",
   "metadata": {},
   "source": [
    "<center><h2>Data Curation</h2></center>\n",
    "\n",
    "We first needed to collect the data from Goodreads. Luckily, we found that our dataset was already collected by someone on [Kaggle](https://www.kaggle.com/). Kaggle is an online platform dedicated to the data science community. It allows people to share their data and knowledge with each other. Our dataset can be found [here](https://www.kaggle.com/datasets/middlelight/goodreadsbookswithgenres/data). This dataset contains all books on the Goodreads platform until 2020.\n",
    "\n",
    "***"
   ]
  },
  {
   "cell_type": "markdown",
   "id": "d16dc32f",
   "metadata": {},
   "source": [
    "We are using the combination of [Python](https://www.python.org/) language to code and [Jupyter Notebook](https://jupyter.org/) to run the code. If you have never used Jupyter Notebook before or want to learn more, click [here](https://www.geeksforgeeks.org/how-to-use-jupyter-notebook-an-ultimate-guide/). To get started we need to import all the libraries we will be using. We also need to import our Kaggle dataset and put the data into a pandas [DataFrame](https://pandas.pydata.org/pandas-docs/stable/reference/api/pandas.DataFrame.html). [Pandas](https://pandas.pydata.org/) is a data analysis and manipulation tool we will use throughout this project. "
   ]
  },
  {
   "cell_type": "code",
   "execution_count": null,
   "id": "fdeec718",
   "metadata": {},
   "outputs": [
    {
     "name": "stderr",
     "output_type": "stream",
     "text": [
      "/home/jhoff721/.local/lib/python3.10/site-packages/tqdm/auto.py:21: TqdmWarning: IProgress not found. Please update jupyter and ipywidgets. See https://ipywidgets.readthedocs.io/en/stable/user_install.html\n",
      "  from .autonotebook import tqdm as notebook_tqdm\n"
     ]
    },
    {
     "data": {
      "text/html": [
       "<div>\n",
       "<style scoped>\n",
       "    .dataframe tbody tr th:only-of-type {\n",
       "        vertical-align: middle;\n",
       "    }\n",
       "\n",
       "    .dataframe tbody tr th {\n",
       "        vertical-align: top;\n",
       "    }\n",
       "\n",
       "    .dataframe thead th {\n",
       "        text-align: right;\n",
       "    }\n",
       "</style>\n",
       "<table border=\"1\" class=\"dataframe\">\n",
       "  <thead>\n",
       "    <tr style=\"text-align: right;\">\n",
       "      <th></th>\n",
       "      <th>Book Id</th>\n",
       "      <th>Title</th>\n",
       "      <th>Author</th>\n",
       "      <th>average_rating</th>\n",
       "      <th>isbn</th>\n",
       "      <th>isbn13</th>\n",
       "      <th>language_code</th>\n",
       "      <th>num_pages</th>\n",
       "      <th>ratings_count</th>\n",
       "      <th>text_reviews_count</th>\n",
       "      <th>publication_date</th>\n",
       "      <th>publisher</th>\n",
       "      <th>genres</th>\n",
       "    </tr>\n",
       "  </thead>\n",
       "  <tbody>\n",
       "    <tr>\n",
       "      <th>0</th>\n",
       "      <td>1</td>\n",
       "      <td>Harry Potter and the Half-Blood Prince (Harry ...</td>\n",
       "      <td>J.K. Rowling/Mary GrandPré</td>\n",
       "      <td>4.57</td>\n",
       "      <td>0439785960</td>\n",
       "      <td>9780439785969</td>\n",
       "      <td>eng</td>\n",
       "      <td>652</td>\n",
       "      <td>2095690</td>\n",
       "      <td>27591</td>\n",
       "      <td>9/16/2006</td>\n",
       "      <td>Scholastic Inc.</td>\n",
       "      <td>Fantasy;Young Adult;Fiction;Fantasy,Magic;Chil...</td>\n",
       "    </tr>\n",
       "    <tr>\n",
       "      <th>1</th>\n",
       "      <td>2</td>\n",
       "      <td>Harry Potter and the Order of the Phoenix (Har...</td>\n",
       "      <td>J.K. Rowling/Mary GrandPré</td>\n",
       "      <td>4.49</td>\n",
       "      <td>0439358078</td>\n",
       "      <td>9780439358071</td>\n",
       "      <td>eng</td>\n",
       "      <td>870</td>\n",
       "      <td>2153167</td>\n",
       "      <td>29221</td>\n",
       "      <td>9/1/2004</td>\n",
       "      <td>Scholastic Inc.</td>\n",
       "      <td>Fantasy;Young Adult;Fiction;Fantasy,Magic;Chil...</td>\n",
       "    </tr>\n",
       "    <tr>\n",
       "      <th>2</th>\n",
       "      <td>4</td>\n",
       "      <td>Harry Potter and the Chamber of Secrets (Harry...</td>\n",
       "      <td>J.K. Rowling</td>\n",
       "      <td>4.42</td>\n",
       "      <td>0439554896</td>\n",
       "      <td>9780439554893</td>\n",
       "      <td>eng</td>\n",
       "      <td>352</td>\n",
       "      <td>6333</td>\n",
       "      <td>244</td>\n",
       "      <td>11/1/2003</td>\n",
       "      <td>Scholastic</td>\n",
       "      <td>Fantasy;Fiction;Young Adult;Fantasy,Magic;Chil...</td>\n",
       "    </tr>\n",
       "    <tr>\n",
       "      <th>3</th>\n",
       "      <td>5</td>\n",
       "      <td>Harry Potter and the Prisoner of Azkaban (Harr...</td>\n",
       "      <td>J.K. Rowling/Mary GrandPré</td>\n",
       "      <td>4.56</td>\n",
       "      <td>043965548X</td>\n",
       "      <td>9780439655484</td>\n",
       "      <td>eng</td>\n",
       "      <td>435</td>\n",
       "      <td>2339585</td>\n",
       "      <td>36325</td>\n",
       "      <td>5/1/2004</td>\n",
       "      <td>Scholastic Inc.</td>\n",
       "      <td>Fantasy;Fiction;Young Adult;Fantasy,Magic;Chil...</td>\n",
       "    </tr>\n",
       "    <tr>\n",
       "      <th>4</th>\n",
       "      <td>8</td>\n",
       "      <td>Harry Potter Boxed Set  Books 1-5 (Harry Potte...</td>\n",
       "      <td>J.K. Rowling/Mary GrandPré</td>\n",
       "      <td>4.78</td>\n",
       "      <td>0439682584</td>\n",
       "      <td>9780439682589</td>\n",
       "      <td>eng</td>\n",
       "      <td>2690</td>\n",
       "      <td>41428</td>\n",
       "      <td>164</td>\n",
       "      <td>9/13/2004</td>\n",
       "      <td>Scholastic</td>\n",
       "      <td>Fantasy;Young Adult;Fiction;Fantasy,Magic;Adve...</td>\n",
       "    </tr>\n",
       "  </tbody>\n",
       "</table>\n",
       "</div>"
      ],
      "text/plain": [
       "   Book Id                                              Title  \\\n",
       "0        1  Harry Potter and the Half-Blood Prince (Harry ...   \n",
       "1        2  Harry Potter and the Order of the Phoenix (Har...   \n",
       "2        4  Harry Potter and the Chamber of Secrets (Harry...   \n",
       "3        5  Harry Potter and the Prisoner of Azkaban (Harr...   \n",
       "4        8  Harry Potter Boxed Set  Books 1-5 (Harry Potte...   \n",
       "\n",
       "                       Author  average_rating        isbn         isbn13  \\\n",
       "0  J.K. Rowling/Mary GrandPré            4.57  0439785960  9780439785969   \n",
       "1  J.K. Rowling/Mary GrandPré            4.49  0439358078  9780439358071   \n",
       "2                J.K. Rowling            4.42  0439554896  9780439554893   \n",
       "3  J.K. Rowling/Mary GrandPré            4.56  043965548X  9780439655484   \n",
       "4  J.K. Rowling/Mary GrandPré            4.78  0439682584  9780439682589   \n",
       "\n",
       "  language_code  num_pages  ratings_count  text_reviews_count  \\\n",
       "0           eng        652        2095690               27591   \n",
       "1           eng        870        2153167               29221   \n",
       "2           eng        352           6333                 244   \n",
       "3           eng        435        2339585               36325   \n",
       "4           eng       2690          41428                 164   \n",
       "\n",
       "  publication_date        publisher  \\\n",
       "0        9/16/2006  Scholastic Inc.   \n",
       "1         9/1/2004  Scholastic Inc.   \n",
       "2        11/1/2003       Scholastic   \n",
       "3         5/1/2004  Scholastic Inc.   \n",
       "4        9/13/2004       Scholastic   \n",
       "\n",
       "                                              genres  \n",
       "0  Fantasy;Young Adult;Fiction;Fantasy,Magic;Chil...  \n",
       "1  Fantasy;Young Adult;Fiction;Fantasy,Magic;Chil...  \n",
       "2  Fantasy;Fiction;Young Adult;Fantasy,Magic;Chil...  \n",
       "3  Fantasy;Fiction;Young Adult;Fantasy,Magic;Chil...  \n",
       "4  Fantasy;Young Adult;Fiction;Fantasy,Magic;Adve...  "
      ]
     },
     "execution_count": 1,
     "metadata": {},
     "output_type": "execute_result"
    }
   ],
   "source": [
    "import kagglehub\n",
    "import pandas as pd\n",
    "import statistics\n",
    "import seaborn as sns\n",
    "import numpy as np\n",
    "import matplotlib.pyplot as plt\n",
    "\n",
    "from scipy import stats\n",
    "from scipy.stats import chi2_contingency\n",
    "\n",
    "# Download latest version\n",
    "file = kagglehub.dataset_download(\"middlelight/goodreadsbookswithgenres\")\n",
    "\n",
    "df = pd.read_csv('../goodreadsbookswithgenres/Goodreads_books_with_genres.csv')\n",
    "df.head() # Show the first 5 books"
   ]
  },
  {
   "cell_type": "markdown",
   "id": "13c999c9",
   "metadata": {},
   "source": [
    "<center><h2>Exploratory Data Analysis</h2></center>\n",
    "\n",
    "bla bla bla"
   ]
  },
  {
   "cell_type": "markdown",
   "id": "e7084e4d",
   "metadata": {},
   "source": [
    "<center><h2>Primary Analysis</h2></center>\n",
    "\n",
    "bla bla bla"
   ]
  },
  {
   "cell_type": "markdown",
   "id": "0d36bf4e",
   "metadata": {},
   "source": [
    "<center><h2>Visualization</h2></center>\n",
    "\n",
    "bla bla bla"
   ]
  },
  {
   "cell_type": "markdown",
   "id": "85942ff7",
   "metadata": {},
   "source": [
    "<center><h2>Insights and Conclusions</h2></center>\n",
    "\n",
    "bla bla bla"
   ]
  }
 ],
 "metadata": {
  "kernelspec": {
   "display_name": "Python 3",
   "language": "python",
   "name": "python3"
  },
  "language_info": {
   "codemirror_mode": {
    "name": "ipython",
    "version": 3
   },
   "file_extension": ".py",
   "mimetype": "text/x-python",
   "name": "python",
   "nbconvert_exporter": "python",
   "pygments_lexer": "ipython3",
   "version": "3.10.12"
  }
 },
 "nbformat": 4,
 "nbformat_minor": 5
}
