{
 "cells": [
  {
   "cell_type": "markdown",
   "id": "c9335515",
   "metadata": {},
   "source": [
    "<center> \n",
    "    <h1>Title</h1> \n",
    "    <h3>Spring 2025 Data Science Project</h3>\n",
    "</center>\n",
    "\n",
    "Collaborators: Jordan Hoffmann, Elizabeth Yuan, Ananya Malipeddi and Kevin Mitchell\n",
    "\n",
    "<h4>Contributions</h4>\n",
    "\n",
    " - Jordan Hoffmann: \n",
    "\n",
    " - Elizabeth Yuan: \n",
    "\n",
    " - Ananya Malipeddi: \n",
    "\n",
    " - Kevin Mitchell: \n",
    "\n",
    "***"
   ]
  },
  {
   "cell_type": "markdown",
   "id": "f9f19964",
   "metadata": {},
   "source": [
    "<center><h2>Introduction</h2></center>\n",
    "\n",
    "bla bla bla"
   ]
  },
  {
   "cell_type": "markdown",
   "id": "15370ba9",
   "metadata": {},
   "source": [
    "<center><h2>Data Curation</h2></center>\n",
    "\n",
    "bla bla bla"
   ]
  },
  {
   "cell_type": "markdown",
   "id": "13c999c9",
   "metadata": {},
   "source": [
    "<center><h2>Exploratory Data Analysis</h2></center>\n",
    "\n",
    "bla bla bla"
   ]
  },
  {
   "cell_type": "markdown",
   "id": "e7084e4d",
   "metadata": {},
   "source": [
    "<center><h2>Primary Analysis</h2></center>\n",
    "\n",
    "bla bla bla"
   ]
  },
  {
   "cell_type": "markdown",
   "id": "0d36bf4e",
   "metadata": {},
   "source": [
    "<center><h2>Visualization</h2></center>\n",
    "\n",
    "bla bla bla"
   ]
  },
  {
   "cell_type": "markdown",
   "id": "85942ff7",
   "metadata": {},
   "source": [
    "<center><h2>Insights and Conclusions</h2></center>\n",
    "\n",
    "bla bla bla"
   ]
  }
 ],
 "metadata": {
  "language_info": {
   "name": "python"
  }
 },
 "nbformat": 4,
 "nbformat_minor": 5
}
